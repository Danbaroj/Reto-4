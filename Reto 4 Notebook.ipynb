{
 "cells": [
  {
   "cell_type": "markdown",
   "metadata": {},
   "source": [
    "## Reto #4"
   ]
  },
  {
   "cell_type": "markdown",
   "metadata": {},
   "source": [
    "Resolver los siguientes problemas usando un notebook de python y subirlos a un repo:\n",
    "\n",
    "1. Dado un número entero, determinar si ese número corresponde al código ASCII de una vocal minúscula."
   ]
  },
  {
   "cell_type": "code",
   "execution_count": null,
   "metadata": {},
   "outputs": [],
   "source": [
    "numero : int\n",
    "numero = int(input(\"Ingrese un numero entero: \"))\n",
    "if numero == 97:\n",
    "    print('El numero ' + str(numero) + ' corresponde a la vocal \"a\"' )\n",
    "else:\n",
    "    if numero == 101:\n",
    "        print('El numero ' + str(numero) + ' corresponde a la vocal \"e\"')\n",
    "    else:\n",
    "        if numero == 105:\n",
    "            print('El numero ' + str(numero) + ' corresponde a la vocal \"i\"')\n",
    "        else:\n",
    "            if numero == 111:\n",
    "                print('El numero ' + str(numero) + ' corresponde a la vocal \"o\"')\n",
    "            else:\n",
    "                if numero ==117:\n",
    "                    print('El numero ' + str(numero) + ' corresponde a la vocal \"u\"')\n",
    "                else:\n",
    "                    print('El numero ' + str(numero) + ' no corresponde ninguna vocal')"
   ]
  },
  {
   "cell_type": "markdown",
   "metadata": {},
   "source": [
    "2. Dada una cadena de longitud 1, determine si el código ASCII de primera letra de la cadena es par o no."
   ]
  },
  {
   "cell_type": "code",
   "execution_count": null,
   "metadata": {},
   "outputs": [],
   "source": [
    "cadena = input(\"Ingrese una cadena de texto: \")\n",
    "primer_caracter = cadena[0]\n",
    "if primer_caracter == '0' or primer_caracter == '2' or primer_caracter == '4' or primer_caracter == '6' or primer_caracter == '8':\n",
    "    print(\"El código ASCII del primer carácter es par.\")\n",
    "else:\n",
    "    print(\"El código ASCII del primer carácter no es par.\")"
   ]
  },
  {
   "cell_type": "markdown",
   "metadata": {},
   "source": [
    "3. Dado un carácter, construya un programa en Python para determinar si el carácter es un dígito o no."
   ]
  },
  {
   "cell_type": "code",
   "execution_count": null,
   "metadata": {},
   "outputs": [],
   "source": [
    "Digitos = [\"0\",\"1\",\"2\",\"3\",\"4\",\"5\",\"6\",\"7\",\"8\",\"9\"]\n",
    "Caracter_Dado : int\n",
    "Caracter_Dado = (input('Ingrese un caracter cualquiera: '))\n",
    "if Caracter_Dado in Digitos:\n",
    "    print('Su caracter ' + str(Caracter_Dado) + ' es un digito')\n",
    "else:\n",
    "    print('Su caracter ' + (str(Caracter_Dado)) + ' no es un digito')"
   ]
  },
  {
   "cell_type": "markdown",
   "metadata": {},
   "source": [
    "4. Dado un número real x, construya un programa que permita determinar si el número es positivo, negativo o cero. Para cada caso de debe imprimir el texto que se especifica a continuación:\n",
    "- Positivo: \"El número x es positivo\"\n",
    "- Negativo: \"El número x es negativo\"\n",
    "- Cero (0): \"El número x es el neutro para la suma\""
   ]
  },
  {
   "cell_type": "code",
   "execution_count": null,
   "metadata": {},
   "outputs": [],
   "source": [
    "numero_real : int\n",
    "numero_real = int(input(\"Ingrese un numero que pertenezca a los reales: \"))\n",
    "if numero_real == 0:\n",
    "    print('El número ' + str(numero_real) + ' es el neutro para la suma' )\n",
    "else:\n",
    "    if numero_real < 0:\n",
    "        print('El número ' + str(numero_real) + ' es negativo' )\n",
    "    else:\n",
    "        if numero_real > 0:\n",
    "            print('El número ' + str(numero_real) + ' es postitivo')"
   ]
  },
  {
   "cell_type": "markdown",
   "metadata": {},
   "source": [
    "5. Dado el centro y el radio de un círculo, determinar si un punto de R2 pertenece o no al interior del círculo."
   ]
  },
  {
   "cell_type": "code",
   "execution_count": null,
   "metadata": {},
   "outputs": [],
   "source": [
    "Punto_Central_Circulo_Y : int\n",
    "Punto_Central_Circulo_x : int\n",
    "Radio_Circulo : int\n",
    "Punto_x: int\n",
    "Punto_y: int\n",
    "Circunferencia: int\n",
    "Punto_Central_Circulo_Y= int(input(\"Ingrese el punto en donde se ubicara el centro en y: \"))\n",
    "Punto_Central_Circulo_x= int(input(\"Ingrese el punto en donde se ubicara el centro en x: \"))\n",
    "Radio_Circulo= int(input(\"Ingrese el radio de la circunferencia: \"))\n",
    "Punto_x = int(input(\"Ingrese el punto que se desea determinar en la coordenada x: \"))\n",
    "Punto_y = int(input(\"Ingrese el punto que se desea determinar en la coordenada y: \"))\n",
    "distancia = ((Punto_x - Punto_Central_Circulo_x)**2 + (Punto_y - Punto_Central_Circulo_Y)**2) ** (1/2)\n",
    "if distancia <= (Radio_Circulo):\n",
    "    print(\"El punto (\" + str(Punto_x)+\",\"+ str(Punto_y)+\") se encuentra en el interior de la circunferencia\")\n",
    "else:\n",
    "    print(\"El punto (\" + str(Punto_x)+\",\"+ str(Punto_y)+\") se encuentra afuera de la circunferencia\" )\n"
   ]
  },
  {
   "cell_type": "markdown",
   "metadata": {},
   "source": [
    "6. Dadas tres longitudes positivas, determinar si con esas longitudes se puede construir un triángulo.\n"
   ]
  },
  {
   "cell_type": "code",
   "execution_count": null,
   "metadata": {},
   "outputs": [],
   "source": [
    "Lado1 : int\n",
    "Lado2 : int\n",
    "Lado3 : int\n",
    "Lado1 = int(input(\"Ingrese el primer lado del triangulo: \"))\n",
    "Lado2 = int(input(\"Ingrese el segundo lado del triangulo: \"))\n",
    "Lado3 = int(input(\"Ingrese el tercer lado del triangulo: \"))\n",
    "if (Lado1+Lado2)>Lado3:\n",
    "    if (Lado2+Lado3)>Lado1:\n",
    "        if(Lado3+Lado1)>Lado2:\n",
    "            print(\"Los tres lados permiten construir un triangulo\")\n",
    "else:\n",
    "    print(\"Los tres lados no permiten construir un triangulo\")"
   ]
  }
 ],
 "metadata": {
  "kernelspec": {
   "display_name": "Python 3",
   "language": "python",
   "name": "python3"
  },
  "language_info": {
   "name": "python",
   "version": "3.12.2"
  }
 },
 "nbformat": 4,
 "nbformat_minor": 2
}
